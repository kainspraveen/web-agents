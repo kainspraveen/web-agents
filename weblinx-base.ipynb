{
 "cells": [
  {
   "cell_type": "code",
   "execution_count": 1,
   "id": "bdfb79eb-ae25-438b-bb15-b78b0b9c8679",
   "metadata": {},
   "outputs": [],
   "source": [
    "from datasets import load_dataset\n",
    "from huggingface_hub import snapshot_download\n",
    "from transformers import pipeline"
   ]
  },
  {
   "cell_type": "code",
   "execution_count": 2,
   "id": "ec5155d8",
   "metadata": {},
   "outputs": [
    {
     "data": {
      "application/vnd.jupyter.widget-view+json": {
       "model_id": "0d15967c7127433db475ef59d4f33f27",
       "version_major": 2,
       "version_minor": 0
      },
      "text/plain": [
       "Fetching 1 files:   0%|          | 0/1 [00:00<?, ?it/s]"
      ]
     },
     "metadata": {},
     "output_type": "display_data"
    }
   ],
   "source": [
    "valid = load_dataset(\"McGill-NLP/WebLINX\", split=\"validation\")\n",
    "snapshot_download(repo_id = \"McGill-NLP/WebLINX\", repo_type = \"dataset\", allow_patterns=\"templates/*\", local_dir=\".\")\n",
    "template = open('templates/llama.txt').read()"
   ]
  },
  {
   "cell_type": "code",
   "execution_count": null,
   "id": "ae7c3f9a",
   "metadata": {},
   "outputs": [],
   "source": []
  },
  {
   "cell_type": "code",
   "execution_count": 4,
   "id": "5bb99b2b",
   "metadata": {},
   "outputs": [
    {
     "name": "stderr",
     "output_type": "stream",
     "text": [
      "Truncation was not explicitly activated but `max_length` is provided a specific value, please use `truncation=True` to explicitly truncate examples to max length. Defaulting to 'longest_first' truncation strategy. If you encode pairs of sequences (GLUE-style) with the tokenizer you can select this strategy more precisely by providing a specific strategy to `truncation`.\n",
      "Starting from v4.46, the `logits` model output will have the same type as the model (except at train time, where it will always be FP32)\n"
     ]
    },
    {
     "name": "stdout",
     "output_type": "stream",
     "text": [
      "Action:  [/s] [INST] Please select the best action using the correct format, do not provide any other information or explanation. [/INST] [/s] [INST] Open second one [INST] What is biotechnology? [INST] What are the applications of biotechnology? ]))) )))\n",
      "Above are the pruned HTML contents of the page\n"
     ]
    },
    {
     "ename": "NameError",
     "evalue": "name 'process_pred' is not defined",
     "output_type": "error",
     "traceback": [
      "\u001b[0;31m---------------------------------------------------------------------------\u001b[0m",
      "\u001b[0;31mNameError\u001b[0m                                 Traceback (most recent call last)",
      "Cell \u001b[0;32mIn[4], line 8\u001b[0m\n\u001b[1;32m      5\u001b[0m \u001b[38;5;28mprint\u001b[39m(\u001b[38;5;124m\"\u001b[39m\u001b[38;5;124mAction:\u001b[39m\u001b[38;5;124m\"\u001b[39m, out[\u001b[38;5;124m'\u001b[39m\u001b[38;5;124mgenerated_text\u001b[39m\u001b[38;5;124m'\u001b[39m])\n\u001b[1;32m      7\u001b[0m \u001b[38;5;66;03m# Here, you can use the predictions on platforms like playwright or browsergym\u001b[39;00m\n\u001b[0;32m----> 8\u001b[0m action \u001b[38;5;241m=\u001b[39m \u001b[43mprocess_pred\u001b[49m(out[\u001b[38;5;124m'\u001b[39m\u001b[38;5;124mgenerated_text\u001b[39m\u001b[38;5;124m'\u001b[39m])  \u001b[38;5;66;03m# implement based on your platform\u001b[39;00m\n\u001b[1;32m      9\u001b[0m \u001b[38;5;66;03m# env.step(action)  # execute the action in your environment\u001b[39;00m\n",
      "\u001b[0;31mNameError\u001b[0m: name 'process_pred' is not defined"
     ]
    }
   ],
   "source": [
    "# Run the agent on a single state (text representation) and get the action\n",
    "state = template.format(**valid[0])\n",
    "agent = pipeline(model=\"McGill-NLP/Llama-3-8b-Web\", device_map=\"auto\", torch_dtype='auto')\n",
    "out = agent(state, return_full_text=False, max_length = 1700)[0]\n",
    "print(\"Action:\", out['generated_text'])\n",
    "\n",
    "# Here, you can use the predictions on platforms like playwright or browsergym\n",
    "# action = process_pred(out['generated_text'])  # implement based on your platform\n",
    "# env.step(action)  # execute the action in your environment"
   ]
  },
  {
   "cell_type": "code",
   "execution_count": 5,
   "id": "126bccb5",
   "metadata": {},
   "outputs": [
    {
     "data": {
      "text/plain": [
       "'<s>[INST] <<SYS>>\\n(html(body(div class=\"container\"(div class=\"row\"(div class=\"col hdr-r justify-...flex align-items-center\"(div class=\"hdr-categories-container\"(a class=\"rc-link\" onclick=\"if (!window.__cfRLUn... false; toggleFlyout()\" data-webtasks-id=\"76978...85e-4cf1\"(span class=\"text\" data-webtasks-id=\"6c7fe1...640-4dce\"EXPLORE)(i class=\"fa ency-down\" data-webtasks-id=\"e7b787...5ae-48a5\"))(div class=\"rc-flyout\"))))) (div (div class=\"dialog-off-canvas-main-canvas\"(div class=\"homepage\"(div style=\"background-image: url(\\'/sites...01_3.png\\');\" class=\"ency-loaded\"(div class=\"ency-loaded mask-hero\")(h4 data-webtasks-id=\"1ea51e...fcd-4e30\"The World’s #1 Online Encyclopedia)(div class=\"clear-both hero\"(div class=\"ency-hero-search\"(form action=\"https://www.encyclopedia.com/gsearch\" method=\"get\" data-webtasks-id=\"c7fbc11c...49-4ab2\"(div class=\"js-form-item form-...-keys form-no-label\" data-webtasks-id=\"8d8afc8...7-477a\" (span class=\"field-preffix\" (input class=\"button js-form-submit form-submit\" type=\"submit\" value=\"\" ) (input title=\"\" class=\"searchbox form-search form-input\" placeholder=\"What do you want to learn today?\" type=\"search\" name=\"q\" value=\"\" size=\"15\" maxlength=\"128\" data-webtasks-id=\"67e2a5...d-41a0\" spellcheck=\"false\" (span class=\"field-suffix\" (i class=\"fa ency-close\")))(div class=\"form-actions js-form-wrapper form-wrapper\" (input class=\"button js-form-submit form-submit\" type=\"submit\" value=\"Search\" data-webtasks-id=\"fedfb512-...9e-42b3\")))(div class=\"clear-both hero footer-copy\"(a href=\"/about\" data-webtasks-id=\"bf33a0...67-44f0\"Read more) about our content and why so many people love it.))))))(div class=\"adthrive-ad adth...cls adthrive-sticky\" style=\"min-height: 90px;\" closable=\"true\"(div style=\"border: 0pt none;\")(span class=\"adthrive-close\" data-webtasks-id=\"0ffc6f0...8a-4c2a\"×))))\\nYou will find above the HTML elements that are available for the current webpage.\\nYou are an AI assistant with a deep understanding of HTML \\nand you must predict actions based on a user request, which will be executed. \\nUse one of the following, replacing [] with an appropriate value: change(value=[str], uid=[str]) ; click(uid=[str]) ; load(url=[str]) ; say(speaker=\"navigator\", utterance=[str]) ; scroll(x=[int], y=[int]) ; \\nsubmit(uid=[str]) ; text_input(text=[str], uid=[str]) ;\\nThe user\\'s first and last 4 utterances are:\\n[00:05] Hello ; ;\\nViewport size: 746h x 1536w\\nOnly the last 5 turns are provided.\\nHere are the top candidates for this turn:\\n(uid = 67e2a5fb-8b1d-41a0) [[tag]] input [[xpath]] /html/body/div[2...form/div[1]/input [[bbox]] x=419.6 y=461.0 width=477.6 height=89.6 [[attributes]] title=\\'\\' value=\\'\\' name=\\'...What do you want to learn today?\\' \\n(uid = fedfb512-949e-42b3) [[tag]] input [[xpath]] /html/body/div[2...form/div[2]/input [[bbox]] x=915.6 y=461.0 width=185.6 height=89.6 [[attributes]] type=\\'submit\\' value=\\'Search...-form-submit form-submit\\' \\n(uid = c7fbc11c-0949-4ab2) [[tag]] form [[xpath]] /html/body/div[2...2]/div[3]/form [[bbox]] x=419.6 y=461.0 width=680 height=88 [[attributes]] method=\\'get\\' data-web...clopedia.com/gsearch\\' [[children]] div div \\n(uid = 6c7fe1f1-f640-4dce) [[tag]] span [[xpath]] /html/body/header/div...div[2]/a/span [[text]] EXPLORE [[bbox]] x=1240.5 y=28.6 width=54.1 height=30 [[attributes]] class=\\'text\\' data-webtasks...-main-menu-menu\\' \\n(uid = 0ffc6f0e-808a-4c2a) [[tag]] span [[xpath]] /html/body/div[5]/span [[text]] × [[bbox]] x=1485.9 y=665.6 width=23.3 height=21.6 [[attributes]] class=\\'adthrive-close...8a-4c2a\\' \\n(uid = 8d8afc84-5b97-477a) [[tag]] div [[xpath]] /html/body/div[...3]/form/div[1] [[text]]   [[bbox]] x=419.6 y=461.0 width=476 height=88 [[attributes]] data-webtasks-id=\\'8...keys form-no-label\\' [[children]] span input \\n(uid = 1ea51e98-3fcd-4e30) [[tag]] h4 [[xpath]] /html/body/div[...div/div[1]/h4 [[text]] The World’s #1 Online Encyclopedia [[bbox]] x=33 y=163 width=1453.2 height=43.2 [[attributes]] data-webtasks-id=\\'1...cd-4e30\\' \\n(uid = 769785af-485e-4cf1) [[tag]] a [[xpath]] /html/body/header/div...2]/div[2]/a [[bbox]] x=1240.5 y=28.6 width=74.1 height=30 [[attributes]] id=\\'rcLink\\' class=\\'... false; toggleFlyout()\\' [[children]] span i \\n(uid = e7b7879f-45ae-48a5) [[tag]] i [[xpath]] /html/body/header/div...div[2]/a/i [[bbox]] x=1294.6 y=33.6 width=20 height=20 [[attributes]] class=\\'fa ency-down...5ae-48a5\\' \\n(uid = bf33a062-fb67-44f0) [[tag]] a [[xpath]] /html/body/div[2...div[4]/p/a [[text]] Read more [[bbox]] x=567.0 y=641.0 width=69.3 height=16 [[attributes]] href=\\'/about\\' data-...67-44f0\\'\\n\\n<</SYS>>[/INST]\\nsay(speaker=\"navigator\", utterance=\"Hi\")</s><s>[INST] say(speaker=\"instructor\", utterance=\"Open Encyclopedia website.\") say(speaker=\"navigator\", utterance=\"Yes, sure\") load(url=\"https://www.encyclopedia.com/\")</s><s>[INST] say(speaker=\"instructor\", utterance=\"Search for biotechnology\")\\nPlease select the best action using the correct format, do not provide any other information or explanation.\\n[/INST]'"
      ]
     },
     "execution_count": 5,
     "metadata": {},
     "output_type": "execute_result"
    }
   ],
   "source": [
    "state = template.format(**valid[0])\n",
    "state"
   ]
  },
  {
   "cell_type": "code",
   "execution_count": null,
   "id": "7ddda5c2",
   "metadata": {},
   "outputs": [],
   "source": [
    "out = agent(state, return_full_text=True, max_length = 500000)\n"
   ]
  },
  {
   "cell_type": "code",
   "execution_count": null,
   "id": "81214749",
   "metadata": {},
   "outputs": [],
   "source": [
    "print(\"Action:\", out)"
   ]
  },
  {
   "cell_type": "code",
   "execution_count": null,
   "id": "c21e485b",
   "metadata": {},
   "outputs": [],
   "source": []
  }
 ],
 "metadata": {
  "kernelspec": {
   "display_name": "Python 3",
   "language": "python",
   "name": "python3"
  },
  "language_info": {
   "codemirror_mode": {
    "name": "ipython",
    "version": 3
   },
   "file_extension": ".py",
   "mimetype": "text/x-python",
   "name": "python",
   "nbconvert_exporter": "python",
   "pygments_lexer": "ipython3",
   "version": "3.10.15"
  }
 },
 "nbformat": 4,
 "nbformat_minor": 5
}
